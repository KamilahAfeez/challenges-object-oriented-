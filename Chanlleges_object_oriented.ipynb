{
  "nbformat": 4,
  "nbformat_minor": 0,
  "metadata": {
    "colab": {
      "provenance": [],
      "toc_visible": true,
      "authorship_tag": "ABX9TyN8mP0c1nww5EZg3NvPBWQt",
      "include_colab_link": true
    },
    "kernelspec": {
      "name": "python3",
      "display_name": "Python 3"
    },
    "language_info": {
      "name": "python"
    }
  },
  "cells": [
    {
      "cell_type": "markdown",
      "metadata": {
        "id": "view-in-github",
        "colab_type": "text"
      },
      "source": [
        "<a href=\"https://colab.research.google.com/github/KamilahAfeez/challenges-object-oriented-/blob/main/Chanlleges_object_oriented.ipynb\" target=\"_parent\"><img src=\"https://colab.research.google.com/assets/colab-badge.svg\" alt=\"Open In Colab\"/></a>"
      ]
    },
    {
      "cell_type": "code",
      "execution_count": 5,
      "metadata": {
        "colab": {
          "base_uri": "https://localhost:8080/"
        },
        "id": "6mK1amWsLINN",
        "outputId": "7a3ea90c-5345-4229-b1a4-d6e6a45d8cf4"
      },
      "outputs": [
        {
          "output_type": "stream",
          "name": "stdout",
          "text": [
            "Number(3) < Number(4): True\n",
            "Number(3) == Number(4): False\n",
            "Number(3) == Number(3): True\n",
            "Number(4) < Number(3): False\n"
          ]
        }
      ],
      "source": [
        "class Number:\n",
        "  def __init__(self, value):\n",
        "    self.value = value\n",
        "  def __lt__(self, other):\n",
        "    return self.value < other.value\n",
        "  def __eq__(self, other):\n",
        "    return self.value == other.value\n",
        "  def __str__(self):\n",
        "    return f\"Number({self.value})\"\n",
        "\n",
        "ob1 = Number(3)\n",
        "ob2 = Number(4)\n",
        "ob3 = Number(3)\n",
        "\n",
        "print(f\"{ob1} < {ob2}: {ob1 < ob2}\")\n",
        "print(f\"{ob1} == {ob2}: {ob1 == ob2}\")\n",
        "print(f\"{ob1} == {ob3}: {ob1 == ob3}\")\n",
        "print(f\"{ob2} < {ob1}: {ob2 < ob1}\")"
      ]
    }
  ]
}